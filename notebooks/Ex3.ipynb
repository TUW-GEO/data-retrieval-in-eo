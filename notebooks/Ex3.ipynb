{
 "cells": [
  {
   "cell_type": "code",
   "execution_count": null,
   "metadata": {},
   "outputs": [],
   "source": [
    "import os  # Miscellaneous operating system interfaces\n",
    "\n",
    "import matplotlib.pyplot as plt  # Plotting library\n",
    "import numpy as np\n",
    "import pandas as pd  # data frames and basic analysis\n",
    "from pytesmo import scaling  # package for scaling data\n",
    "from scipy import optimize, stats  # calculating statistics like Pearson R"
   ]
  }
 ],
 "metadata": {
  "kernelspec": {
   "display_name": "dreo",
   "language": "python",
   "name": "python3"
  },
  "language_info": {
   "name": "python",
   "version": "3.13.2"
  }
 },
 "nbformat": 4,
 "nbformat_minor": 2
}
