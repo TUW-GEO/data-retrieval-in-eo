{
 "cells": [
  {
   "cell_type": "markdown",
   "metadata": {},
   "source": [
    "# Exercise 1 - Download, read and visualize H-SAF ASCAT SSM CDR and ISMN data\n",
    "\n",
    "## Importing packages\n",
    "Here we first import the python packages which we will need throughout this exercise. Don't worry about the warnings. "
   ]
  },
  {
   "cell_type": "code",
   "execution_count": null,
   "metadata": {},
   "outputs": [],
   "source": [
    "from pathlib import Path  # handling file paths\n",
    "from typing import List  # type hinting\n",
    "\n",
    "import matplotlib.pyplot as plt  # plotting data\n",
    "import numpy as np\n",
    "import pandas as pd  # data analysis library and dataframes (tabular data)\n",
    "import pytesmo.temporal_matching as tmatch  # temporal matching of time series\n",
    "import xarray as xr  # handling multi-dimensional arrays\n",
    "import yaml  # YAML parser for configuration files\n",
    "from ascat.read_native.ragged_array_ts import CellFileCollection  # ASCAT data\n",
    "from ismn.components import Station  # type hinting\n",
    "from ismn.interface import ISMN_Interface  # reading ISMN data\n",
    "from ismn.meta import MetaData  # type hinting"
   ]
  },
  {
   "cell_type": "markdown",
   "metadata": {},
   "source": [
    "## Set paths for data\n",
    "Here we specify the paths to the directories, where our data is located. "
   ]
  },
  {
   "cell_type": "code",
   "execution_count": null,
   "metadata": {},
   "outputs": [],
   "source": [
    "# Get the root path from the yaml file\n",
    "paths = yaml.safe_load(Path(\"../paths.yml\").read_text())\n",
    "\n",
    "# Set the root directory to all datasets\n",
    "root: Path = Path(paths[\"jupyterhub\"]).expanduser()\n",
    "\n",
    "# Set the paths to the datasets\n",
    "cell_source: Path = root / \"datasets/scat_ard/ascat_ssm_cdr_12.5km_h121\"\n",
    "workspace: Path = root / \"courses/120.110_Data-Retrieval-in-Earth-Observation\"\n",
    "ismn_path: Path = workspace / \"ismn_data\"\n",
    "\n",
    "# Check if the paths exist\n",
    "assert cell_source.exists()\n",
    "assert ismn_path.exists()"
   ]
  },
  {
   "cell_type": "markdown",
   "metadata": {
    "tags": []
   },
   "source": [
    "## Read ISMN Data\n",
    "\n",
    "In order to read the ISMN data, we are going to use the package `ismn`. This package is already installed in this environment.\n",
    "For further information on how to use the package, please refer to the documentation: https://ismn.readthedocs.io/en/latest/examples/interface.html\n",
    "\n",
    "The following cells show you how to read the data."
   ]
  },
  {
   "cell_type": "code",
   "execution_count": null,
   "metadata": {},
   "outputs": [],
   "source": [
    "# Loading the data from the provided Zip file\n",
    "ismn_zip_file: Path = list(ismn_path.rglob(\"*.zip\"))[0]\n",
    "ismn_data: ISMN_Interface = ISMN_Interface(ismn_zip_file, parallel=False)"
   ]
  },
  {
   "cell_type": "code",
   "execution_count": null,
   "metadata": {},
   "outputs": [],
   "source": [
    "# Aggregate data for the plot of the stations\n",
    "station_ids: List[int] = []\n",
    "lats: List[float] = []\n",
    "lons: List[float] = []\n",
    "\n",
    "for station in ismn_data.stations_that_measure(\"soil_moisture\"):\n",
    "    station_ids.append(station.name)\n",
    "    lats.append(station.lat)\n",
    "    lons.append(station.lon)"
   ]
  },
  {
   "cell_type": "code",
   "execution_count": null,
   "metadata": {},
   "outputs": [],
   "source": [
    "# Plotting the locations of the available stations\n",
    "fig, ax = plt.subplots(figsize=(6, 6))\n",
    "ax.scatter(\n",
    "    lons, lats, marker=\"o\", c=\"red\", edgecolors=\"black\", label=\"ISMN Stations\"\n",
    ")\n",
    "\n",
    "for idx, station in enumerate(station_ids):\n",
    "    ax.text(lons[idx], lats[idx], station, fontsize=9, ha=\"right\", va=\"bottom\")\n",
    "\n",
    "ax.set_xlabel(\"Longitude\")\n",
    "ax.set_ylabel(\"Latitude\")\n",
    "ax.set_title(\"ISMN Station Locations\")\n",
    "ax.legend()\n",
    "ax.grid()\n",
    "plt.show()"
   ]
  },
  {
   "cell_type": "code",
   "execution_count": null,
   "metadata": {},
   "outputs": [],
   "source": [
    "# Inspect the soil moisture stations data\n",
    "for station in ismn_data.stations_that_measure(\"soil_moisture\"):\n",
    "    print(f\"\\nStation '{station.name}' has the following sensors:\")\n",
    "\n",
    "    for sensor in station.sensors:\n",
    "        print(f\"\\t- {sensor}\")\n",
    "\n",
    "    print(\"_\" * 60)"
   ]
  },
  {
   "cell_type": "code",
   "execution_count": null,
   "metadata": {},
   "outputs": [],
   "source": [
    "# Set some common parameters\n",
    "network: str = \"WEGENERNET\"\n",
    "sensor: str = \"Hydraprobe-II_soil_moisture_0.200000_0.200000\""
   ]
  },
  {
   "cell_type": "code",
   "execution_count": null,
   "metadata": {},
   "outputs": [],
   "source": [
    "# Inspect a single station's sensors\n",
    "station_id: int = 54\n",
    "station_obj: Station = ismn_data[network].stations.get(station_id)\n",
    "print(station_obj)"
   ]
  },
  {
   "cell_type": "code",
   "execution_count": null,
   "metadata": {},
   "outputs": [],
   "source": [
    "# Load the in-situ soil moisture data into an xarray dataset\n",
    "insitu_ds: xr.Dataset = (\n",
    "    ismn_data[network].stations.get(station_id)[sensor].to_xarray()\n",
    ")\n",
    "insitu_ds = insitu_ds.squeeze()\n",
    "insitu_ds"
   ]
  },
  {
   "cell_type": "markdown",
   "metadata": {},
   "source": [
    "Now that we have read the ISMN data into an xarray Dataset, we can visualize the data."
   ]
  },
  {
   "cell_type": "code",
   "execution_count": null,
   "metadata": {},
   "outputs": [],
   "source": [
    "insitu_ds.soil_moisture.plot()"
   ]
  },
  {
   "cell_type": "code",
   "execution_count": null,
   "metadata": {},
   "outputs": [],
   "source": [
    "# Let's also check what our time series look like including the masked values\n",
    "# Get the soil moisture and flag data\n",
    "sm: xr.DataArray = insitu_ds.soil_moisture\n",
    "sm_flag: xr.DataArray = insitu_ds.soil_moisture_flag\n",
    "\n",
    "# Plot the soil moisture data\n",
    "fig, ax = plt.subplots(figsize=(15, 5))\n",
    "sm.plot(ax=ax, label=\"In-situ SM\")\n",
    "sm.where(sm_flag != \"G\").plot.scatter(\n",
    "    ax=ax, c=\"crimson\", ec=\"none\", zorder=2, s=10, label=\"IN SITU SM FLAGGED\"\n",
    ")\n",
    "ax.set_ylabel(r\"Vol. Soil Moisture (m$^3$/m$^3$)\")\n",
    "ax.legend()\n",
    "plt.show()"
   ]
  },
  {
   "cell_type": "code",
   "execution_count": null,
   "metadata": {},
   "outputs": [],
   "source": [
    "# Extracting the metadata of the station\n",
    "meta: MetaData = ismn_data[\"WEGENERNET\"].stations.get(station_id).metadata\n",
    "meta: pd.Series = meta.to_pd()\n",
    "meta"
   ]
  },
  {
   "cell_type": "markdown",
   "metadata": {},
   "source": [
    "In the next step we are going to store the coordinate data of the ISMN data in two separate arrays, one for the latitude and one for the longitude."
   ]
  },
  {
   "cell_type": "code",
   "execution_count": null,
   "metadata": {},
   "outputs": [],
   "source": [
    "lon: pd.Series = ismn_data.metadata.longitude.val\n",
    "lat: pd.Series = ismn_data.metadata.latitude.val"
   ]
  },
  {
   "cell_type": "markdown",
   "metadata": {},
   "source": [
    "## Read H121 - Metop ASCAT SSM CDR 12.5 km sampling\n",
    "Then the data can be read using either longitude and latitude or per gridpoint.\n",
    "\n",
    "For further information on how to use the package, please refer to the documentation:\n",
    "https://ascat.readthedocs.io/en/latest/"
   ]
  },
  {
   "cell_type": "code",
   "execution_count": null,
   "metadata": {},
   "outputs": [],
   "source": [
    "h121_reader = CellFileCollection.from_product_id(cell_source, \"H121_V1.0\")\n",
    "h121_ds: xr.Dataset = h121_reader.read(\n",
    "    coords=(float(lat.iloc[0]), float(lon.iloc[0]))\n",
    ")\n",
    "h121_ds = h121_ds.set_xindex(\"time\").rename({\"obs\": \"time\"})\n",
    "h121_ds"
   ]
  },
  {
   "cell_type": "markdown",
   "metadata": {},
   "source": [
    "## Plot H121 Soil Moisture data\n",
    "Now that we have loaded the data we can have a first look at the timeseries. Soil moisture is available as a percentage saturation. If you wish to calculate absolute soil moisture values, a possibility is to multiply the soil moisture data with the porosity value."
   ]
  },
  {
   "cell_type": "code",
   "execution_count": null,
   "metadata": {},
   "outputs": [],
   "source": [
    "# Plot the ASCAT H121 soil moisture data\n",
    "fig, ax = plt.subplots(figsize=(15, 5))\n",
    "h121_ds.surface_soil_moisture.plot(\n",
    "    x=\"time\", ax=ax, label=\"ASCAT H121 Soil Moisture\"\n",
    ")\n",
    "ax.set_ylabel(\"Degree of Saturation (%)\")\n",
    "ax.legend()\n",
    "plt.show()"
   ]
  },
  {
   "cell_type": "code",
   "execution_count": null,
   "metadata": {},
   "outputs": [],
   "source": [
    "# Plot the soil moisture data for the year 2018\n",
    "fig, ax = plt.subplots(figsize=(15, 5))\n",
    "h121_ds.surface_soil_moisture.sel(time=\"2018\").plot(\n",
    "    x=\"time\", ax=ax, label=\"ASCAT H121 Soil Moisture\"\n",
    ")\n",
    "ax.set_ylabel(\"Degree of Saturation (%)\")\n",
    "ax.legend()\n",
    "plt.show()"
   ]
  },
  {
   "cell_type": "markdown",
   "metadata": {},
   "source": [
    "As discussed in the live session, soil moisture is affected by snow cover and frozen soils. We can see this in the subset of 2018, where a clear drop in soil moisture is visible in March, which is not likely due to changes in soil moisture. \n",
    "Hence we mask for frozen soils and the snow cover using the probability mask. Please note, this is not the same as masking using in situ data or model data, but only a probability of that these conditions occur."
   ]
  },
  {
   "cell_type": "markdown",
   "metadata": {},
   "source": [
    "## Calculate VOD for exercise 2\n",
    "In exercise 2 you will need an estimate for TAU or the so-called Vegetation Optical Depth (VOD). TAU can be calculated from Metop ASCAT observables and this is done in the code below. VOD is written to the data frame of the ASCAT data, and when you temporally match the data with the ISMN data then you can store the dataarray including VOD."
   ]
  },
  {
   "cell_type": "code",
   "execution_count": null,
   "metadata": {},
   "outputs": [],
   "source": [
    "# define angles\n",
    "cross_over_angle: int = 25\n",
    "reference_angle: int = 40\n",
    "\n",
    "# convert all backscatter to the dry reference cross over angle of 25\n",
    "sig25: xr.DataArray = (\n",
    "    h121_ds.backscatter40\n",
    "    + h121_ds.slope40 * (cross_over_angle - reference_angle)\n",
    "    + 0.5 * h121_ds.curvature40 * (cross_over_angle - reference_angle) ** 2.0\n",
    ")\n",
    "# get the lowest backscatter\n",
    "dry_25: float = sig25.quantile(0.05).values.astype(float)\n",
    "\n",
    "# convert to the reference angle of 40\n",
    "dry_ref: xr.DataArray = (\n",
    "    dry_25\n",
    "    - h121_ds.slope40 * (cross_over_angle - reference_angle)\n",
    "    - 0.5 * h121_ds.curvature40 * (cross_over_angle - reference_angle) ** 2\n",
    ")\n",
    "\n",
    "# get the wet reference\n",
    "wet_ref: xr.DataArray = h121_ds.backscatter40.quantile(0.95)\n",
    "\n",
    "# set bare soil sensitivity\n",
    "lin_bs_sens: float = 0.21\n",
    "\n",
    "# convert to linear domain\n",
    "lin_wet_ref: xr.DataArray = 10 ** (wet_ref / 10.0)\n",
    "lin_dry_ref: xr.DataArray = 10 ** (dry_ref / 10.0)\n",
    "\n",
    "# get total backscatter sensitivity\n",
    "lin_sens: xr.DataArray = lin_wet_ref - lin_dry_ref\n",
    "inc_angle: np.float64 = -np.cos(np.radians(reference_angle)) / 2.0\n",
    "\n",
    "# calculate vod as ratio between bare soil sensitivity\n",
    "# and total backscatter sensitivity\n",
    "# and store it in the h121 dataset\n",
    "h121_ds[\"vod\"] = inc_angle * np.log(lin_sens / lin_bs_sens)"
   ]
  },
  {
   "cell_type": "code",
   "execution_count": null,
   "metadata": {},
   "outputs": [],
   "source": [
    "fig, ax = plt.subplots(figsize=(15, 5))\n",
    "\n",
    "h121_ds.sel(time=\"2018\").vod.plot(label=\"H121 VOD\", ax=ax)\n",
    "\n",
    "ax.set_ylabel(r\"VOD (m$^2$/m$^2$)\")\n",
    "ax.legend()\n",
    "plt.show()"
   ]
  },
  {
   "cell_type": "markdown",
   "metadata": {},
   "source": [
    "## Temporal matching\n",
    "The data of the in situ station and the satellite observations do not match. That means that the satellite data is available from 2017 to 2025, the in situ station only until 2024. The observation times are different with satellite observation irregular between 6 and 10 AM/PM and the in situ data at hourly intervals. So these two datasets need to be matched in time in order to have the same amount of observations. Here it is best practice to match to the most sparse dataset, in our case the ASCAT data.\n",
    "\n",
    "We will use ``pytesmo`` - a Python Toolbox for the Evaluation of Soil Moisture Observations, which works with ``pandas`` dataframes. So the first step is to convert xarray datasets to pandas dataframes."
   ]
  },
  {
   "cell_type": "code",
   "execution_count": null,
   "metadata": {},
   "outputs": [],
   "source": [
    "# Xarray dataset to pandas dataframe\n",
    "h121_df: pd.DataFrame = h121_ds.to_dataframe().reset_index()\n",
    "insitu_df: pd.DataFrame = insitu_ds.to_dataframe().reset_index()\n",
    "\n",
    "# Set index of dataframes to be time data\n",
    "h121_df = h121_df.set_index(\"time\")\n",
    "insitu_df = insitu_df.set_index(\"date_time\")"
   ]
  },
  {
   "cell_type": "code",
   "execution_count": null,
   "metadata": {},
   "outputs": [],
   "source": [
    "# Find common date range\n",
    "start_date: np.datetime64 = max(\n",
    "    insitu_ds.date_time.min(), h121_ds.time.min()\n",
    ").values\n",
    "end_date: np.datetime64 = min(\n",
    "    insitu_ds.date_time.max(), h121_ds.time.max()\n",
    ").values\n",
    "\n",
    "print(f\"Common date range:\\n\\t{start_date}\\n\\t{end_date}\")"
   ]
  },
  {
   "cell_type": "code",
   "execution_count": null,
   "metadata": {},
   "outputs": [],
   "source": [
    "# Clip both dataframes to the date range\n",
    "h121_df_clipped = h121_df.loc[start_date:end_date]\n",
    "insitu_df_clipped = insitu_df.loc[start_date:end_date]"
   ]
  },
  {
   "cell_type": "code",
   "execution_count": null,
   "metadata": {},
   "outputs": [],
   "source": [
    "# Temporal matching using pytesmo\n",
    "# The window of 1 means that the maximum distance\n",
    "# between the observations is 1 day\n",
    "\n",
    "insitu_match = tmatch.temporal_collocation(\n",
    "    h121_df_clipped, insitu_df_clipped, window=1\n",
    ")\n",
    "\n",
    "df = h121_df_clipped.join(insitu_match, how=\"inner\")"
   ]
  },
  {
   "cell_type": "markdown",
   "metadata": {},
   "source": [
    "Keep in mind that all variables are now in one dataset, where ``soil_moisture`` stands for in situ data, while ``surface_soil_moisture`` for ASCAT data. Therefore, we should rename variables for convenience."
   ]
  },
  {
   "cell_type": "code",
   "execution_count": null,
   "metadata": {},
   "outputs": [],
   "source": [
    "df = df.rename(\n",
    "    columns={\"soil_moisture\": \"SM_insitu\", \"surface_soil_moisture\": \"SM_ascat\"}\n",
    ")\n",
    "\n",
    "# check if same number of observations\n",
    "assert len(h121_df_clipped) == len(insitu_match)\n",
    "print(f\"Number of ASCAT observations: {len(h121_df_clipped)}\")\n",
    "print(f\"Number of matched in-situ observations: {len(insitu_match)}\")"
   ]
  },
  {
   "cell_type": "code",
   "execution_count": null,
   "metadata": {},
   "outputs": [],
   "source": [
    "fig, ax = plt.subplots(figsize=(14, 6))\n",
    "ax2 = ax.twinx()\n",
    "\n",
    "# Plot In-Situ soil moisture\n",
    "lns1 = ax.plot(\n",
    "    df.index,\n",
    "    df[\"SM_insitu\"],\n",
    "    label=\"In-Situ SM\",\n",
    "    c=\"midnightblue\",\n",
    "    linestyle=\"-\",\n",
    "    linewidth=1.5,\n",
    "    alpha=0.9,\n",
    ")\n",
    "\n",
    "ax.set_ylabel(r\"In-Situ SM (m$^3$/m$^3$)\", color=\"midnightblue\")\n",
    "ax.tick_params(axis=\"y\", labelcolor=\"midnightblue\")\n",
    "\n",
    "# Plot ASCAT soil moisture\n",
    "lns2 = ax2.plot(\n",
    "    df.index,\n",
    "    df[\"SM_ascat\"],\n",
    "    label=\"ASCAT SM\",\n",
    "    c=\"seagreen\",\n",
    "    linestyle=\"-\",\n",
    "    linewidth=1.5,\n",
    "    alpha=0.5,\n",
    ")\n",
    "\n",
    "ax2.set_ylabel(\"ASCAT SM (Degree of Saturation %)\", color=\"seagreen\")\n",
    "ax2.tick_params(axis=\"y\", labelcolor=\"seagreen\")\n",
    "\n",
    "# Combine legends properly\n",
    "legends = lns1 + lns2\n",
    "labs = [legend.get_label() for legend in legends]\n",
    "ax.legend(legends, labs, loc=2, fontsize=10, frameon=True)\n",
    "\n",
    "plt.show()"
   ]
  },
  {
   "cell_type": "markdown",
   "metadata": {},
   "source": [
    "We can use the provided flags from the in situ and satellite data sets to mask our data."
   ]
  },
  {
   "cell_type": "code",
   "execution_count": null,
   "metadata": {},
   "outputs": [],
   "source": [
    "# Mask out in-situ data anomalies\n",
    "df_masked = df.loc[df[\"soil_moisture_flag\"] == \"G\", :]\n",
    "\n",
    "# Mask out frozen and snow-covered conditions\n",
    "mask = (df_masked[\"frozen_soil_probability\"] > 0) | (\n",
    "    df_masked[\"snow_cover_probability\"] > 0\n",
    ")\n",
    "df_masked = df.mask(mask)"
   ]
  },
  {
   "cell_type": "code",
   "execution_count": null,
   "metadata": {},
   "outputs": [],
   "source": [
    "fig, ax = plt.subplots(figsize=(14, 6))\n",
    "ax2 = ax.twinx()  # Secondary y-axis for ASCAT SM\n",
    "\n",
    "# Plot In-Situ Soil Moisture (Blue)\n",
    "ax.plot(\n",
    "    df_masked.index,\n",
    "    df_masked[\"SM_insitu\"],\n",
    "    label=\"In-Situ SM\",\n",
    "    color=\"midnightblue\",\n",
    "    linewidth=1.5,\n",
    "    alpha=0.9,\n",
    ")\n",
    "\n",
    "# Plot ASCAT Soil Moisture (Green)\n",
    "ax2.plot(\n",
    "    df_masked.index,\n",
    "    df_masked[\"SM_ascat\"],\n",
    "    label=\"ASCAT SM\",\n",
    "    color=\"seagreen\",\n",
    "    linewidth=1.5,\n",
    "    alpha=0.5,\n",
    ")\n",
    "\n",
    "ax.set_ylabel(\"In-Situ SM (m³/m³)\", color=\"midnightblue\")\n",
    "ax.tick_params(axis=\"y\", labelcolor=\"midnightblue\")\n",
    "\n",
    "ax2.set_ylabel(\"ASCAT SM (Degree of Saturation %)\", color=\"seagreen\")\n",
    "ax2.tick_params(axis=\"y\", labelcolor=\"seagreen\")\n",
    "\n",
    "ax.legend(loc=2)\n",
    "ax2.legend(loc=1)\n",
    "\n",
    "plt.show()"
   ]
  },
  {
   "cell_type": "markdown",
   "metadata": {},
   "source": [
    "Let's save the data to load it for other notebooks. The most convenient format to store the data in is called ``csv``."
   ]
  },
  {
   "cell_type": "code",
   "execution_count": null,
   "metadata": {},
   "outputs": [],
   "source": [
    "df_masked.to_csv(\"soilmoisture_vegetation_optical_depth.csv\", index=True)"
   ]
  },
  {
   "cell_type": "markdown",
   "metadata": {},
   "source": [
    "The data can also be saved as an xarray dataset, if that framework is preferred."
   ]
  },
  {
   "cell_type": "code",
   "execution_count": null,
   "metadata": {},
   "outputs": [],
   "source": [
    "df_masked = df_masked.dropna(how=\"all\")\n",
    "\n",
    "# Convert Pandas DataFrame to Xarray Dataset\n",
    "ds_masked = xr.Dataset.from_dataframe(df_masked)\n",
    "\n",
    "# Uncomment line below if you wish to save an xarray dataset\n",
    "# ds_masked.to_zarr(\"soilmoisture_vegetation_optical_depth.zarr\", mode=\"w\")\n",
    "\n",
    "ds_masked"
   ]
  },
  {
   "cell_type": "markdown",
   "metadata": {},
   "source": [
    "## Exercise\n",
    "To complete the exercise, please locate an ISMN station of your interest, download the ISMN data, read in the data using the longitude and latitude. Do a temporal matching of the data and plot the time series as shown below and upload this to the Padlet with a description and first interpretation. If necessary, save your matched dataframe (see below) so you have it ready for the other exercises."
   ]
  },
  {
   "cell_type": "code",
   "execution_count": null,
   "metadata": {},
   "outputs": [],
   "source": []
  }
 ],
 "metadata": {
  "kernelspec": {
   "display_name": "dreo",
   "language": "python",
   "name": "python3"
  },
  "language_info": {
   "codemirror_mode": {
    "name": "ipython",
    "version": 3
   },
   "file_extension": ".py",
   "mimetype": "text/x-python",
   "name": "python",
   "nbconvert_exporter": "python",
   "pygments_lexer": "ipython3",
   "version": "3.13.2"
  }
 },
 "nbformat": 4,
 "nbformat_minor": 4
}
