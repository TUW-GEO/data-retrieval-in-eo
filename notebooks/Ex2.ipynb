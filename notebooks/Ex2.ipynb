{
 "cells": [
  {
   "cell_type": "code",
   "execution_count": null,
   "id": "0",
   "metadata": {},
   "outputs": [],
   "source": [
    "import matplotlib.pyplot as plt\n",
    "import pandas as pd"
   ]
  },
  {
   "cell_type": "code",
   "execution_count": null,
   "id": "1",
   "metadata": {},
   "outputs": [],
   "source": [
    "df: pd.DataFrame = pd.read_csv(\n",
    "    \"soilmoisture_vegetation_optical_depth.csv\",\n",
    "    parse_dates=[\"time\"],\n",
    "    index_col=\"time\",\n",
    ")\n",
    "df.head()"
   ]
  },
  {
   "cell_type": "code",
   "execution_count": null,
   "id": "2",
   "metadata": {},
   "outputs": [],
   "source": [
    "fig, axs = plt.subplots(2, 1, figsize=(15, 8), sharex=True)\n",
    "ax1, ax3 = axs[0], axs[1]\n",
    "ax2 = ax1.twinx()\n",
    "\n",
    "df[\"SM_insitu\"].plot(\n",
    "    ax=ax1, label=\"INSITU SM, flag == G\", color=\"midnightblue\", lw=1.2\n",
    ")\n",
    "df[\"SM_ascat\"].plot(\n",
    "    ax=ax2,\n",
    "    label=\"ASCAT SM, frozen_prob == 0 and snow_prob == 0\",\n",
    "    color=\"seagreen\",\n",
    "    alpha=0.5,\n",
    ")\n",
    "\n",
    "df[\"vod\"].plot(ax=ax3, label=\"VOD\", color=\"coral\", lw=1.2)\n",
    "\n",
    "for ax in [ax1, ax2, ax3]:\n",
    "    ax.legend()\n",
    "\n",
    "ax1.set_ylabel(r\"INSITU SM (m$^3$/m$^3$)\", color=\"midnightblue\")\n",
    "ax2.set_ylabel(\"ASCAT SM (Degree of Saturation %)\", color=\"seagreen\")\n",
    "ax3.set_ylabel(r\"ASCAT VOD (m$^2$/m$^2$)\", color=\"coral\")\n",
    "\n",
    "plt.show()"
   ]
  },
  {
   "cell_type": "code",
   "execution_count": null,
   "id": "3",
   "metadata": {},
   "outputs": [],
   "source": []
  }
 ],
 "metadata": {
  "kernelspec": {
   "display_name": "dreo",
   "language": "python",
   "name": "python3"
  },
  "language_info": {
   "codemirror_mode": {
    "name": "ipython",
    "version": 3
   },
   "file_extension": ".py",
   "mimetype": "text/x-python",
   "name": "python",
   "nbconvert_exporter": "python",
   "pygments_lexer": "ipython3",
   "version": "3.10.16"
  }
 },
 "nbformat": 4,
 "nbformat_minor": 5
}
