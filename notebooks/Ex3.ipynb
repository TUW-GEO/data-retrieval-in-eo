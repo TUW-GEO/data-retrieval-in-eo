{
 "cells": [
  {
   "cell_type": "code",
   "execution_count": null,
   "metadata": {},
   "outputs": [],
   "source": [
    "import os  # Miscellaneous operating system interfaces\n",
    "import pandas as pd  # data frames and basic analysis\n",
    "import numpy as np\n",
    "import matplotlib.pyplot as plt  # Plotting library\n",
    "from scipy import stats, optimize  # calculating statistics like Pearson R\n",
    "from pytesmo import scaling  # package for scaling data"
   ]
  }
 ],
 "metadata": {
  "language_info": {
   "name": "python"
  }
 },
 "nbformat": 4,
 "nbformat_minor": 2
}
